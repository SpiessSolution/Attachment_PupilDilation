{
 "cells": [
  {
   "cell_type": "markdown",
   "metadata": {},
   "source": [
    "# Statistical Analysis Pupil Dilation Processing\n",
    "\n",
    "In this notebook, basic statistical analyses are performed on the cleaned, segmented, and aggregated pupil dilation data for adults.\n",
    "In particular, the following sections are outlined:\n",
    "- Loading and subsetting the data\n",
    "- Main Statistical Analyses\n",
    "  - Anova to test for higher order effects\n",
    "  - Check diagnostics\n",
    "  - Simple means for Emotion\n",
    "  - Vizualized interaction effect for Dismissing and Preoccupied\n",
    "- Additional Statistical Analyses\n",
    "  - Additional Analysis 1: Age in model\n",
    "  - Additional Analysis 2: Security instead of Preoccupied/Dismissing\n",
    "\n",
    "## Input<>Output data\n",
    "\n",
    "#### input\n",
    "`~data/final/adults_final_data.xlsx`\n",
    "#### output\n",
    "`~reports/figures/adults`\n",
    "\n",
    "### Note\n",
    "- Only observations (i.e., trials) where at least 85% data is present in both the fixation and the stimulus period are considered for the analysis\n",
    "- The name of the dependent variable contains information about the analysis time-window (e.g., avg_pd_bc_post1500ms). As a consequence, changing the analysis time window in the preceeding python scripts (i.e., 002_aggregate_to_group_data.py) also changes the name of the dependent variablre in the dataset loaded into R. Therefore, the name of the dependent variable needs to be changed in the Parameter section.\n"
   ]
  },
  {
   "cell_type": "markdown",
   "metadata": {},
   "source": [
    "## Packages"
   ]
  },
  {
   "cell_type": "code",
   "execution_count": null,
   "metadata": {},
   "outputs": [
    {
     "name": "stderr",
     "output_type": "stream",
     "text": [
      "Loading required package: ggplot2\n",
      "\n",
      "Loading required package: sjPlot\n",
      "\n",
      "#refugeeswelcome\n",
      "\n",
      "Loading required package: Matrix\n",
      "\n",
      "\n",
      "Attaching package: 'dplyr'\n",
      "\n",
      "\n",
      "The following objects are masked from 'package:stats':\n",
      "\n",
      "    filter, lag\n",
      "\n",
      "\n",
      "The following objects are masked from 'package:base':\n",
      "\n",
      "    intersect, setdiff, setequal, union\n",
      "\n",
      "\n",
      "Loading required package: carData\n",
      "\n",
      "\n",
      "Attaching package: 'car'\n",
      "\n",
      "\n",
      "The following object is masked from 'package:dplyr':\n",
      "\n",
      "    recode\n",
      "\n",
      "\n",
      "\n",
      "Attaching package: 'lmerTest'\n",
      "\n",
      "\n",
      "The following object is masked from 'package:lme4':\n",
      "\n",
      "    lmer\n",
      "\n",
      "\n",
      "The following object is masked from 'package:stats':\n",
      "\n",
      "    step\n",
      "\n",
      "\n"
     ]
    }
   ],
   "source": [
    "if (!require(\"ggplot2\")) install.packages(\"ggplot2\")\n",
    "library(ggplot2)\n",
    "\n",
    "if (!require(\"sjPlot\")) install.packages(\"sjPlot\")\n",
    "library(sjPlot)\n",
    "\n",
    "library(readxl)\n",
    "library(lme4)\n",
    "library(dplyr)\n",
    "library(car)\n",
    "library(lmerTest)\n",
    "library(sjPlot)\n",
    "library(sjmisc)\n"
   ]
  },
  {
   "cell_type": "markdown",
   "metadata": {},
   "source": [
    "Create R-environment file for reproducing compute environment"
   ]
  },
  {
   "cell_type": "code",
   "execution_count": null,
   "metadata": {},
   "outputs": [],
   "source": [
    "# Create a character vector containing the version of R and the list of installed packages with their versions\n",
    "r_version <- paste(\"R version:\", paste(getRversion(), collapse = \".\"))\n",
    "\n",
    "installed_packages <- as.data.frame(installed.packages(), stringsAsFactors = FALSE)\n",
    "packages_info <- paste(installed_packages$Package, installed_packages$Version, sep = \" - \")\n",
    "\n",
    "# Combine R version and package information into a single character vector\n",
    "environment_info <- c(r_version, packages_info)\n",
    "\n",
    "# Write the environment information to a text file\n",
    "writeLines(environment_info, \"R_environment.txt\")\n"
   ]
  },
  {
   "cell_type": "markdown",
   "metadata": {},
   "source": [
    "## Parameters"
   ]
  },
  {
   "cell_type": "code",
   "execution_count": 3,
   "metadata": {},
   "outputs": [],
   "source": [
    "WORKING_DIR < - getwd()\n",
    "REPORTS_DIR < - file.path(dirname(WORKING_DIR), \"reports\",\n",
    "                          \"statistical_analyses\", \"adults\")\n",
    "INPUT_DATA_DIR < - file.path(dirname(WORKING_DIR), \"data\", \"final\")\n",
    "FIGURE_REPORTS_DIR < - \\\n",
    "    file.path(dirname(WORKING_DIR), \"reports\", \"figures\", \"adults\")\n",
    "\n",
    "\n",
    "DEPENDENT_VARIABLE < - \"avg_pd_bc_post1500ms\""
   ]
  },
  {
   "cell_type": "markdown",
   "metadata": {},
   "source": [
    "## Load Data"
   ]
  },
  {
   "cell_type": "code",
   "execution_count": 4,
   "metadata": {},
   "outputs": [
    {
     "data": {
      "text/html": [
       "<table class=\"dataframe\">\n",
       "<caption>A tibble: 6 x 25</caption>\n",
       "<thead>\n",
       "\t<tr><th scope=col>ParticipantName</th><th scope=col>trial_nr</th><th scope=col>Emotion</th><th scope=col>Picture</th><th scope=col>%samples_fixation</th><th scope=col>%samples_stimulus</th><th scope=col>avg_pd_bc_post1500ms</th><th scope=col>mean_luminance</th><th scope=col>std_luminance</th><th scope=col>Age</th><th scope=col>...</th><th scope=col>Dismissing</th><th scope=col>Fearful</th><th scope=col>Noticing</th><th scope=col>NotDistracting</th><th scope=col>NotWorrying</th><th scope=col>AttentionRegulation</th><th scope=col>EmotionalAwareness</th><th scope=col>SelfRegulation</th><th scope=col>BodyListening</th><th scope=col>Trusting</th></tr>\n",
       "\t<tr><th scope=col>&lt;dbl&gt;</th><th scope=col>&lt;dbl&gt;</th><th scope=col>&lt;chr&gt;</th><th scope=col>&lt;chr&gt;</th><th scope=col>&lt;dbl&gt;</th><th scope=col>&lt;dbl&gt;</th><th scope=col>&lt;dbl&gt;</th><th scope=col>&lt;dbl&gt;</th><th scope=col>&lt;dbl&gt;</th><th scope=col>&lt;chr&gt;</th><th scope=col>...</th><th scope=col>&lt;chr&gt;</th><th scope=col>&lt;chr&gt;</th><th scope=col>&lt;chr&gt;</th><th scope=col>&lt;chr&gt;</th><th scope=col>&lt;chr&gt;</th><th scope=col>&lt;chr&gt;</th><th scope=col>&lt;chr&gt;</th><th scope=col>&lt;chr&gt;</th><th scope=col>&lt;chr&gt;</th><th scope=col>&lt;chr&gt;</th></tr>\n",
       "</thead>\n",
       "<tbody>\n",
       "\t<tr><td>1</td><td> 2</td><td>sad  </td><td>08-sad.jpg  </td><td>96.77419</td><td>95.2</td><td> 0.051512173</td><td>0.4071908</td><td>0.3307784</td><td>24,3175906913073</td><td>...</td><td>,5</td><td>-2</td><td>3,75</td><td>1,33333333333333</td><td>3</td><td>2,71428571428571</td><td>2,8</td><td>3</td><td>1</td><td>3,66666666666667</td></tr>\n",
       "\t<tr><td>1</td><td> 4</td><td>sad  </td><td>14-sad.jpg  </td><td>95.16129</td><td>94.4</td><td>-0.105566920</td><td>0.4055880</td><td>0.3442441</td><td>24,3175906913073</td><td>...</td><td>,5</td><td>-2</td><td>3,75</td><td>1,33333333333333</td><td>3</td><td>2,71428571428571</td><td>2,8</td><td>3</td><td>1</td><td>3,66666666666667</td></tr>\n",
       "\t<tr><td>1</td><td> 5</td><td>happy</td><td>18-happy.jpg</td><td>95.16129</td><td>95.2</td><td>-0.003729389</td><td>0.4526897</td><td>0.3347382</td><td>24,3175906913073</td><td>...</td><td>,5</td><td>-2</td><td>3,75</td><td>1,33333333333333</td><td>3</td><td>2,71428571428571</td><td>2,8</td><td>3</td><td>1</td><td>3,66666666666667</td></tr>\n",
       "\t<tr><td>1</td><td> 6</td><td>sad  </td><td>37-sad.jpg  </td><td>96.77419</td><td>95.2</td><td> 0.049544806</td><td>0.3868103</td><td>0.3317499</td><td>24,3175906913073</td><td>...</td><td>,5</td><td>-2</td><td>3,75</td><td>1,33333333333333</td><td>3</td><td>2,71428571428571</td><td>2,8</td><td>3</td><td>1</td><td>3,66666666666667</td></tr>\n",
       "\t<tr><td>1</td><td> 8</td><td>happy</td><td>22-happy.jpg</td><td>96.77419</td><td>94.4</td><td> 0.136686158</td><td>0.4286444</td><td>0.3133941</td><td>24,3175906913073</td><td>...</td><td>,5</td><td>-2</td><td>3,75</td><td>1,33333333333333</td><td>3</td><td>2,71428571428571</td><td>2,8</td><td>3</td><td>1</td><td>3,66666666666667</td></tr>\n",
       "\t<tr><td>1</td><td>10</td><td>sad  </td><td>32-sad.jpg  </td><td>96.77419</td><td>94.4</td><td> 0.120106797</td><td>0.4163837</td><td>0.3316881</td><td>24,3175906913073</td><td>...</td><td>,5</td><td>-2</td><td>3,75</td><td>1,33333333333333</td><td>3</td><td>2,71428571428571</td><td>2,8</td><td>3</td><td>1</td><td>3,66666666666667</td></tr>\n",
       "</tbody>\n",
       "</table>\n"
      ],
      "text/latex": [
       "A tibble: 6 x 25\n",
       "\\begin{tabular}{lllllllllllllllllllll}\n",
       " ParticipantName & trial\\_nr & Emotion & Picture & \\%samples\\_fixation & \\%samples\\_stimulus & avg\\_pd\\_bc\\_post1500ms & mean\\_luminance & std\\_luminance & Age & ... & Dismissing & Fearful & Noticing & NotDistracting & NotWorrying & AttentionRegulation & EmotionalAwareness & SelfRegulation & BodyListening & Trusting\\\\\n",
       " <dbl> & <dbl> & <chr> & <chr> & <dbl> & <dbl> & <dbl> & <dbl> & <dbl> & <chr> & ... & <chr> & <chr> & <chr> & <chr> & <chr> & <chr> & <chr> & <chr> & <chr> & <chr>\\\\\n",
       "\\hline\n",
       "\t 1 &  2 & sad   & 08-sad.jpg   & 96.77419 & 95.2 &  0.051512173 & 0.4071908 & 0.3307784 & 24,3175906913073 & ... & ,5 & -2 & 3,75 & 1,33333333333333 & 3 & 2,71428571428571 & 2,8 & 3 & 1 & 3,66666666666667\\\\\n",
       "\t 1 &  4 & sad   & 14-sad.jpg   & 95.16129 & 94.4 & -0.105566920 & 0.4055880 & 0.3442441 & 24,3175906913073 & ... & ,5 & -2 & 3,75 & 1,33333333333333 & 3 & 2,71428571428571 & 2,8 & 3 & 1 & 3,66666666666667\\\\\n",
       "\t 1 &  5 & happy & 18-happy.jpg & 95.16129 & 95.2 & -0.003729389 & 0.4526897 & 0.3347382 & 24,3175906913073 & ... & ,5 & -2 & 3,75 & 1,33333333333333 & 3 & 2,71428571428571 & 2,8 & 3 & 1 & 3,66666666666667\\\\\n",
       "\t 1 &  6 & sad   & 37-sad.jpg   & 96.77419 & 95.2 &  0.049544806 & 0.3868103 & 0.3317499 & 24,3175906913073 & ... & ,5 & -2 & 3,75 & 1,33333333333333 & 3 & 2,71428571428571 & 2,8 & 3 & 1 & 3,66666666666667\\\\\n",
       "\t 1 &  8 & happy & 22-happy.jpg & 96.77419 & 94.4 &  0.136686158 & 0.4286444 & 0.3133941 & 24,3175906913073 & ... & ,5 & -2 & 3,75 & 1,33333333333333 & 3 & 2,71428571428571 & 2,8 & 3 & 1 & 3,66666666666667\\\\\n",
       "\t 1 & 10 & sad   & 32-sad.jpg   & 96.77419 & 94.4 &  0.120106797 & 0.4163837 & 0.3316881 & 24,3175906913073 & ... & ,5 & -2 & 3,75 & 1,33333333333333 & 3 & 2,71428571428571 & 2,8 & 3 & 1 & 3,66666666666667\\\\\n",
       "\\end{tabular}\n"
      ],
      "text/markdown": [
       "\n",
       "A tibble: 6 x 25\n",
       "\n",
       "| ParticipantName &lt;dbl&gt; | trial_nr &lt;dbl&gt; | Emotion &lt;chr&gt; | Picture &lt;chr&gt; | %samples_fixation &lt;dbl&gt; | %samples_stimulus &lt;dbl&gt; | avg_pd_bc_post1500ms &lt;dbl&gt; | mean_luminance &lt;dbl&gt; | std_luminance &lt;dbl&gt; | Age &lt;chr&gt; | ... ... | Dismissing &lt;chr&gt; | Fearful &lt;chr&gt; | Noticing &lt;chr&gt; | NotDistracting &lt;chr&gt; | NotWorrying &lt;chr&gt; | AttentionRegulation &lt;chr&gt; | EmotionalAwareness &lt;chr&gt; | SelfRegulation &lt;chr&gt; | BodyListening &lt;chr&gt; | Trusting &lt;chr&gt; |\n",
       "|---|---|---|---|---|---|---|---|---|---|---|---|---|---|---|---|---|---|---|---|---|\n",
       "| 1 |  2 | sad   | 08-sad.jpg   | 96.77419 | 95.2 |  0.051512173 | 0.4071908 | 0.3307784 | 24,3175906913073 | ... | ,5 | -2 | 3,75 | 1,33333333333333 | 3 | 2,71428571428571 | 2,8 | 3 | 1 | 3,66666666666667 |\n",
       "| 1 |  4 | sad   | 14-sad.jpg   | 95.16129 | 94.4 | -0.105566920 | 0.4055880 | 0.3442441 | 24,3175906913073 | ... | ,5 | -2 | 3,75 | 1,33333333333333 | 3 | 2,71428571428571 | 2,8 | 3 | 1 | 3,66666666666667 |\n",
       "| 1 |  5 | happy | 18-happy.jpg | 95.16129 | 95.2 | -0.003729389 | 0.4526897 | 0.3347382 | 24,3175906913073 | ... | ,5 | -2 | 3,75 | 1,33333333333333 | 3 | 2,71428571428571 | 2,8 | 3 | 1 | 3,66666666666667 |\n",
       "| 1 |  6 | sad   | 37-sad.jpg   | 96.77419 | 95.2 |  0.049544806 | 0.3868103 | 0.3317499 | 24,3175906913073 | ... | ,5 | -2 | 3,75 | 1,33333333333333 | 3 | 2,71428571428571 | 2,8 | 3 | 1 | 3,66666666666667 |\n",
       "| 1 |  8 | happy | 22-happy.jpg | 96.77419 | 94.4 |  0.136686158 | 0.4286444 | 0.3133941 | 24,3175906913073 | ... | ,5 | -2 | 3,75 | 1,33333333333333 | 3 | 2,71428571428571 | 2,8 | 3 | 1 | 3,66666666666667 |\n",
       "| 1 | 10 | sad   | 32-sad.jpg   | 96.77419 | 94.4 |  0.120106797 | 0.4163837 | 0.3316881 | 24,3175906913073 | ... | ,5 | -2 | 3,75 | 1,33333333333333 | 3 | 2,71428571428571 | 2,8 | 3 | 1 | 3,66666666666667 |\n",
       "\n"
      ],
      "text/plain": [
       "  ParticipantName trial_nr Emotion Picture      %samples_fixation\n",
       "1 1                2       sad     08-sad.jpg   96.77419         \n",
       "2 1                4       sad     14-sad.jpg   95.16129         \n",
       "3 1                5       happy   18-happy.jpg 95.16129         \n",
       "4 1                6       sad     37-sad.jpg   96.77419         \n",
       "5 1                8       happy   22-happy.jpg 96.77419         \n",
       "6 1               10       sad     32-sad.jpg   96.77419         \n",
       "  %samples_stimulus avg_pd_bc_post1500ms mean_luminance std_luminance\n",
       "1 95.2               0.051512173         0.4071908      0.3307784    \n",
       "2 94.4              -0.105566920         0.4055880      0.3442441    \n",
       "3 95.2              -0.003729389         0.4526897      0.3347382    \n",
       "4 95.2               0.049544806         0.3868103      0.3317499    \n",
       "5 94.4               0.136686158         0.4286444      0.3133941    \n",
       "6 94.4               0.120106797         0.4163837      0.3316881    \n",
       "  Age              ... Dismissing Fearful Noticing NotDistracting   NotWorrying\n",
       "1 24,3175906913073 ... ,5         -2      3,75     1,33333333333333 3          \n",
       "2 24,3175906913073 ... ,5         -2      3,75     1,33333333333333 3          \n",
       "3 24,3175906913073 ... ,5         -2      3,75     1,33333333333333 3          \n",
       "4 24,3175906913073 ... ,5         -2      3,75     1,33333333333333 3          \n",
       "5 24,3175906913073 ... ,5         -2      3,75     1,33333333333333 3          \n",
       "6 24,3175906913073 ... ,5         -2      3,75     1,33333333333333 3          \n",
       "  AttentionRegulation EmotionalAwareness SelfRegulation BodyListening\n",
       "1 2,71428571428571    2,8                3              1            \n",
       "2 2,71428571428571    2,8                3              1            \n",
       "3 2,71428571428571    2,8                3              1            \n",
       "4 2,71428571428571    2,8                3              1            \n",
       "5 2,71428571428571    2,8                3              1            \n",
       "6 2,71428571428571    2,8                3              1            \n",
       "  Trusting        \n",
       "1 3,66666666666667\n",
       "2 3,66666666666667\n",
       "3 3,66666666666667\n",
       "4 3,66666666666667\n",
       "5 3,66666666666667\n",
       "6 3,66666666666667"
      ]
     },
     "metadata": {},
     "output_type": "display_data"
    }
   ],
   "source": [
    "df < - read_excel(file.path(INPUT_DATA_DIR, \"adults_final_data.xlsx\"))\n",
    "head(df)"
   ]
  },
  {
   "cell_type": "markdown",
   "metadata": {},
   "source": [
    "### Prepare data for analysis\n",
    "\n",
    "- Change datatypes"
   ]
  },
  {
   "cell_type": "code",
   "execution_count": 5,
   "metadata": {},
   "outputs": [
    {
     "name": "stderr",
     "output_type": "stream",
     "text": [
      "Warning message in eval(expr, envir, enclos):\n",
      "\"NAs introduced by coercion\"\n",
      "Warning message in eval(expr, envir, enclos):\n",
      "\"NAs introduced by coercion\"\n"
     ]
    },
    {
     "name": "stdout",
     "output_type": "stream",
     "text": [
      "tibble [12,836 x 25] (S3: tbl_df/tbl/data.frame)\n",
      " $ ParticipantName     : num [1:12836] 1 1 1 1 1 1 1 1 1 1 ...\n",
      " $ trial_nr            : num [1:12836] 2 4 5 6 8 10 12 13 15 17 ...\n",
      " $ Emotion             : chr [1:12836] \"sad\" \"sad\" \"happy\" \"sad\" ...\n",
      " $ Picture             : chr [1:12836] \"08-sad.jpg\" \"14-sad.jpg\" \"18-happy.jpg\" \"37-sad.jpg\" ...\n",
      " $ %samples_fixation   : num [1:12836] 96.8 95.2 95.2 96.8 96.8 ...\n",
      " $ %samples_stimulus   : num [1:12836] 95.2 94.4 95.2 95.2 94.4 94.4 93.6 85.6 96 95.2 ...\n",
      " $ avg_pd_bc_post1500ms: num [1:12836] 0.05151 -0.10557 -0.00373 0.04954 0.13669 ...\n",
      " $ mean_luminance      : num [1:12836] 0.407 0.406 0.453 0.387 0.429 ...\n",
      " $ std_luminance       : num [1:12836] 0.331 0.344 0.335 0.332 0.313 ...\n",
      " $ Age                 : num [1:12836] 24.3 24.3 24.3 24.3 24.3 ...\n",
      " $ Gender              : num [1:12836] 1 1 1 1 1 1 1 1 1 1 ...\n",
      " $ Security_number     : num [1:12836] 4 4 4 4 4 4 4 4 4 4 ...\n",
      " $ Security            : num [1:12836] 0 0 0 0 0 0 0 0 0 0 ...\n",
      " $ Secure              : num [1:12836] 2 2 2 2 2 2 2 2 2 2 ...\n",
      " $ Preoccupied         : num [1:12836] 4 4 4 4 4 4 4 4 4 4 ...\n",
      " $ Dismissing          : num [1:12836] 0.5 0.5 0.5 0.5 0.5 0.5 0.5 0.5 0.5 0.5 ...\n",
      " $ Fearful             : num [1:12836] -2 -2 -2 -2 -2 -2 -2 -2 -2 -2 ...\n",
      " $ Noticing            : num [1:12836] 3.75 3.75 3.75 3.75 3.75 3.75 3.75 3.75 3.75 3.75 ...\n",
      " $ NotDistracting      : num [1:12836] 1.33 1.33 1.33 1.33 1.33 ...\n",
      " $ NotWorrying         : num [1:12836] 3 3 3 3 3 3 3 3 3 3 ...\n",
      " $ AttentionRegulation : num [1:12836] 2.71 2.71 2.71 2.71 2.71 ...\n",
      " $ EmotionalAwareness  : num [1:12836] 2.8 2.8 2.8 2.8 2.8 2.8 2.8 2.8 2.8 2.8 ...\n",
      " $ SelfRegulation      : num [1:12836] 3 3 3 3 3 3 3 3 3 3 ...\n",
      " $ BodyListening       : num [1:12836] 1 1 1 1 1 1 1 1 1 1 ...\n",
      " $ Trusting            : num [1:12836] 3.67 3.67 3.67 3.67 3.67 ...\n"
     ]
    }
   ],
   "source": [
    "df$Preoccupied <- as.numeric(df$Preoccupied)\n",
    "df$Secure <- as.numeric(df$Secure)\n",
    "df$Dismissing <- gsub(\",\", \".\", df$Dismissing)\n",
    "df$Dismissing <- as.numeric(df$Dismissing)\n",
    "df$Fearful <- gsub(\",\", \".\", df$Fearful)\n",
    "df$Fearful <- as.numeric(df$Fearful)\n",
    "df$Noticing <- gsub(\",\", \".\", df$Noticing)\n",
    "df$Noticing <- as.numeric(df$Noticing)\n",
    "df$NotDistracting <- gsub(\",\", \".\", df$NotDistracting)\n",
    "df$NotDistracting <- as.numeric(df$NotDistracting)\n",
    "df$NotWorrying <- gsub(\",\", \".\", df$NotWorrying)\n",
    "df$NotWorrying <- as.numeric(df$NotWorrying)\n",
    "df$AttentionRegulation <- gsub(\",\", \".\", df$AttentionRegulation)\n",
    "df$AttentionRegulation <- as.numeric(df$AttentionRegulation)\n",
    "df$EmotionalAwareness <- gsub(\",\", \".\", df$EmotionalAwareness)\n",
    "df$EmotionalAwareness <- as.numeric(df$EmotionalAwareness)\n",
    "df$SelfRegulation <- gsub(\",\", \".\", df$SelfRegulation)\n",
    "df$SelfRegulation <- as.numeric(df$SelfRegulation)\n",
    "df$BodyListening <- gsub(\",\", \".\", df$BodyListening)\n",
    "df$BodyListening <- as.numeric(df$BodyListening)\n",
    "df$Trusting <- gsub(\",\", \".\", df$Trusting)\n",
    "df$Trusting <- as.numeric(df$Trusting)\n",
    "df$Age <- gsub(\",\", \".\", df$Age)\n",
    "df$Age <- as.numeric(df$Age)\n",
    "str(df)\n"
   ]
  },
  {
   "cell_type": "code",
   "execution_count": 6,
   "metadata": {},
   "outputs": [
    {
     "data": {
      "text/html": [
       "<style>\n",
       ".list-inline {list-style: none; margin:0; padding: 0}\n",
       ".list-inline>li {display: inline-block}\n",
       ".list-inline>li:not(:last-child)::after {content: \"\\00b7\"; padding: 0 .5ex}\n",
       "</style>\n",
       "<ol class=list-inline><li>12836</li><li>25</li></ol>\n"
      ],
      "text/latex": [
       "\\begin{enumerate*}\n",
       "\\item 12836\n",
       "\\item 25\n",
       "\\end{enumerate*}\n"
      ],
      "text/markdown": [
       "1. 12836\n",
       "2. 25\n",
       "\n",
       "\n"
      ],
      "text/plain": [
       "[1] 12836    25"
      ]
     },
     "metadata": {},
     "output_type": "display_data"
    }
   ],
   "source": [
    "dim(df)"
   ]
  },
  {
   "cell_type": "markdown",
   "metadata": {},
   "source": [
    "### Filter data for analysis"
   ]
  },
  {
   "cell_type": "code",
   "execution_count": 7,
   "metadata": {},
   "outputs": [],
   "source": [
    "subset_df <- subset(df, `%samples_fixation` > 85 & `%samples_stimulus` > 85)\n"
   ]
  },
  {
   "cell_type": "code",
   "execution_count": 8,
   "metadata": {},
   "outputs": [
    {
     "data": {
      "text/html": [
       "7516"
      ],
      "text/latex": [
       "7516"
      ],
      "text/markdown": [
       "7516"
      ],
      "text/plain": [
       "[1] 7516"
      ]
     },
     "metadata": {},
     "output_type": "display_data"
    }
   ],
   "source": [
    "# Count the number of observations subjected into the mixed model\n",
    "nrow(subset_df)"
   ]
  },
  {
   "cell_type": "code",
   "execution_count": 9,
   "metadata": {},
   "outputs": [
    {
     "data": {
      "text/html": [
       "95"
      ],
      "text/latex": [
       "95"
      ],
      "text/markdown": [
       "95"
      ],
      "text/plain": [
       "[1] 95"
      ]
     },
     "metadata": {},
     "output_type": "display_data"
    }
   ],
   "source": [
    "# count the number of unique ParticipantName\n",
    "length(unique(subset_df$ParticipantName))\n"
   ]
  },
  {
   "cell_type": "code",
   "execution_count": 10,
   "metadata": {},
   "outputs": [
    {
     "name": "stdout",
     "output_type": "stream",
     "text": [
      "\u001b[90m# A tibble: 1 x 1\u001b[39m\n",
      "  average_count\n",
      "          \u001b[3m\u001b[90m<dbl>\u001b[39m\u001b[23m\n",
      "\u001b[90m1\u001b[39m          79.1\n"
     ]
    }
   ],
   "source": [
    "# Average number of trials per participant\n",
    "result <- subset_df %>%\n",
    "    group_by(ParticipantName) %>%\n",
    "    summarise(count_trial_nr = n()) %>%\n",
    "    summarise(average_count = mean(count_trial_nr))\n",
    "print(result)\n"
   ]
  },
  {
   "cell_type": "code",
   "execution_count": 11,
   "metadata": {},
   "outputs": [
    {
     "data": {
      "text/html": [
       "<table class=\"dataframe\">\n",
       "<caption>A tibble: 2 x 2</caption>\n",
       "<thead>\n",
       "\t<tr><th scope=col>Emotion</th><th scope=col>count_trial_nr</th></tr>\n",
       "\t<tr><th scope=col>&lt;chr&gt;</th><th scope=col>&lt;int&gt;</th></tr>\n",
       "</thead>\n",
       "<tbody>\n",
       "\t<tr><td>happy</td><td>3828</td></tr>\n",
       "\t<tr><td>sad  </td><td>3688</td></tr>\n",
       "</tbody>\n",
       "</table>\n"
      ],
      "text/latex": [
       "A tibble: 2 x 2\n",
       "\\begin{tabular}{ll}\n",
       " Emotion & count\\_trial\\_nr\\\\\n",
       " <chr> & <int>\\\\\n",
       "\\hline\n",
       "\t happy & 3828\\\\\n",
       "\t sad   & 3688\\\\\n",
       "\\end{tabular}\n"
      ],
      "text/markdown": [
       "\n",
       "A tibble: 2 x 2\n",
       "\n",
       "| Emotion &lt;chr&gt; | count_trial_nr &lt;int&gt; |\n",
       "|---|---|\n",
       "| happy | 3828 |\n",
       "| sad   | 3688 |\n",
       "\n"
      ],
      "text/plain": [
       "  Emotion count_trial_nr\n",
       "1 happy   3828          \n",
       "2 sad     3688          "
      ]
     },
     "metadata": {},
     "output_type": "display_data"
    }
   ],
   "source": [
    "# Number of trials per condition\n",
    "trial_counts <- subset_df %>%\n",
    "  group_by(Emotion) %>%\n",
    "  summarise(count_trial_nr = n())\n",
    "trial_counts\n"
   ]
  },
  {
   "cell_type": "code",
   "execution_count": 12,
   "metadata": {},
   "outputs": [
    {
     "data": {
      "image/png": "[encoded data removed]",
      "text/plain": [
       "plot without title"
      ]
     },
     "metadata": {
      "image/png": {
       "height": 420,
       "width": 420
      }
     },
     "output_type": "display_data"
    }
   ],
   "source": [
    "# Histogram for the number of trials per participant\n",
    "trial_counts <- subset_df %>%\n",
    "  group_by(ParticipantName) %>%\n",
    "  summarise(count_trial_nr = n())\n",
    "\n",
    "histogram_plot <- ggplot(trial_counts, aes(x = count_trial_nr)) +\n",
    "  geom_histogram(binwidth = 1, fill = \"blue\", color = \"black\", alpha = 0.7) +\n",
    "  labs(title = \"Histogram of Count of trial_nr per ParticipantName\", x = \"Count of trial_nr\", y = \"Frequency\") # nolint\n",
    "\n",
    "print(histogram_plot)\n"
   ]
  },
  {
   "cell_type": "markdown",
   "metadata": {},
   "source": [
    "## Main Statistical Analysis\n",
    "\n",
    "**Analysis formula**:\n",
    "```r\n",
    "    lmer(avg_pd_bc_post1500ms ~ C(Emotion) + C(Emotion):Dismissing + C(Emotion):Preoccupied + (1 | ParticipantName) + (1 | trial_nr) + (1 | mean_luminance), data = .)\n",
    "\n",
    "where\n",
    "\n",
    "- Emotion is treated as factor\n",
    "- Dismissing and Preoccupied are continous variables\n",
    "- Fixed Effects:\n",
    "    - Emotion\n",
    "    - Emotion X Dismissing\n",
    "    - Emotion X Preoccupied\n",
    "- Random Effects (intercept):\n",
    "    - ParticipantName\n",
    "    - mean_luminance\n",
    "    - trial_nr\n",
    "\n"
   ]
  },
  {
   "cell_type": "code",
   "execution_count": 15,
   "metadata": {},
   "outputs": [
    {
     "data": {
      "text/plain": [
       "Linear mixed model fit by REML. t-tests use Satterthwaite's method [\n",
       "lmerModLmerTest]\n",
       "Formula: get(DEPENDENT_VARIABLE) ~ C(Emotion) + C(Emotion):Dismissing +  \n",
       "    C(Emotion):Preoccupied + (1 | ParticipantName) + (1 | trial_nr) +  \n",
       "    (1 | mean_luminance)\n",
       "   Data: .\n",
       "\n",
       "REML criterion at convergence: -2303.8\n",
       "\n",
       "Scaled residuals: \n",
       "    Min      1Q  Median      3Q     Max \n",
       "-6.4047 -0.5779  0.0041  0.5983  4.6883 \n",
       "\n",
       "Random effects:\n",
       " Groups          Name        Variance  Std.Dev.\n",
       " trial_nr        (Intercept) 0.0002480 0.01575 \n",
       " ParticipantName (Intercept) 0.0100661 0.10033 \n",
       " mean_luminance  (Intercept) 0.0003379 0.01838 \n",
       " Residual                    0.0303595 0.17424 \n",
       "Number of obs: 3885, groups:  \n",
       "trial_nr, 228; ParticipantName, 45; mean_luminance, 38\n",
       "\n",
       "Fixed effects:\n",
       "                              Estimate Std. Error         df t value Pr(>|t|)\n",
       "(Intercept)                  2.226e-01  1.908e-02  4.891e+01  11.669 9.66e-16\n",
       "C(Emotion)sad               -9.153e-04  8.860e-03  4.950e+01  -0.103   0.9181\n",
       "C(Emotion)happy:Dismissing   1.879e-02  9.333e-03  4.429e+01   2.014   0.0501\n",
       "C(Emotion)sad:Dismissing     2.228e-02  9.370e-03  4.501e+01   2.378   0.0217\n",
       "C(Emotion)happy:Preoccupied -2.959e-05  5.634e-03  4.371e+01  -0.005   0.9958\n",
       "C(Emotion)sad:Preoccupied    3.865e-03  5.634e-03  4.377e+01   0.686   0.4963\n",
       "                               \n",
       "(Intercept)                 ***\n",
       "C(Emotion)sad                  \n",
       "C(Emotion)happy:Dismissing  .  \n",
       "C(Emotion)sad:Dismissing    *  \n",
       "C(Emotion)happy:Preoccupied    \n",
       "C(Emotion)sad:Preoccupied      \n",
       "---\n",
       "Signif. codes:  0 '***' 0.001 '**' 0.01 '*' 0.05 '.' 0.1 ' ' 1\n",
       "\n",
       "Correlation of Fixed Effects:\n",
       "            (Intr) C(Emt) C(Emtn)h:D C(Emtn)s:D C(Emtn)h:P\n",
       "C(Emotin)sd -0.233                                        \n",
       "C(Emtn)hp:D -0.523  0.067                                 \n",
       "C(Emtn)sd:D -0.490 -0.065  0.934                          \n",
       "C(Emtn)hp:P -0.171  0.024  0.333      0.311               \n",
       "C(Emtn)sd:P -0.160 -0.030  0.313      0.333      0.944    "
      ]
     },
     "metadata": {},
     "output_type": "display_data"
    }
   ],
   "source": [
    "result <- subset_df %>%\n",
    "    lmer(get(DEPENDENT_VARIABLE) ~ C(Emotion) + C(Emotion):Dismissing + C(Emotion):Preoccupied + (1 | ParticipantName) + (1 | trial_nr) + (1 | mean_luminance), data = ., ) # nolint\n",
    "summary(result)\n"
   ]
  },
  {
   "cell_type": "markdown",
   "metadata": {},
   "source": [
    "- <span style=\"color:darkred\">**C(Emotion)sad:Dismissing:** The more dismissing, the more the pupil dilates to sad stimuli (p<0.5)</span> \n",
    "- <span style=\"color:darkred\">**C(Emotion)happy:Dismissing:** The more dismissing, the more the pupil dilates to happy stimuli (marginally significant)</span> \n",
    "- <span style=\"color:darkred\">**C(Emotion)sad:Preoccupied:** Degree of preoccupied does not affect pupil response to sad stimuli (n.s.)</span> \n",
    "- <span style=\"color:darkred\">**C(Emotion)happy:Preoccupied:** Degree of preoccupied does not affect pupil response to happy stimuli (n.s.))</span> "
   ]
  },
  {
   "cell_type": "code",
   "execution_count": 16,
   "metadata": {},
   "outputs": [
    {
     "name": "stderr",
     "output_type": "stream",
     "text": [
      "Computing profile confidence intervals ...\n",
      "\n"
     ]
    },
    {
     "data": {
      "text/html": [
       "<table class=\"dataframe\">\n",
       "<caption>A matrix: 10 x 2 of type dbl</caption>\n",
       "<thead>\n",
       "\t<tr><th></th><th scope=col>2.5 %</th><th scope=col>97.5 %</th></tr>\n",
       "</thead>\n",
       "<tbody>\n",
       "\t<tr><th scope=row>.sig01</th><td> 0.0000000000</td><td>0.02632960</td></tr>\n",
       "\t<tr><th scope=row>.sig02</th><td> 0.0788058676</td><td>0.12201812</td></tr>\n",
       "\t<tr><th scope=row>.sig03</th><td> 0.0103982143</td><td>0.02666533</td></tr>\n",
       "\t<tr><th scope=row>.sigma</th><td> 0.1702333326</td><td>0.17830945</td></tr>\n",
       "\t<tr><th scope=row>(Intercept)</th><td> 0.1857487875</td><td>0.25946490</td></tr>\n",
       "\t<tr><th scope=row>C(Emotion)sad</th><td>-0.0183855462</td><td>0.01657707</td></tr>\n",
       "\t<tr><th scope=row>C(Emotion)happy:Dismissing</th><td> 0.0007459007</td><td>0.03686389</td></tr>\n",
       "\t<tr><th scope=row>C(Emotion)sad:Dismissing</th><td> 0.0041547930</td><td>0.04041375</td></tr>\n",
       "\t<tr><th scope=row>C(Emotion)happy:Preoccupied</th><td>-0.0109315638</td><td>0.01087278</td></tr>\n",
       "\t<tr><th scope=row>C(Emotion)sad:Preoccupied</th><td>-0.0070396494</td><td>0.01476164</td></tr>\n",
       "</tbody>\n",
       "</table>\n"
      ],
      "text/latex": [
       "A matrix: 10 x 2 of type dbl\n",
       "\\begin{tabular}{r|ll}\n",
       "  & 2.5 \\% & 97.5 \\%\\\\\n",
       "\\hline\n",
       "\t.sig01 &  0.0000000000 & 0.02632960\\\\\n",
       "\t.sig02 &  0.0788058676 & 0.12201812\\\\\n",
       "\t.sig03 &  0.0103982143 & 0.02666533\\\\\n",
       "\t.sigma &  0.1702333326 & 0.17830945\\\\\n",
       "\t(Intercept) &  0.1857487875 & 0.25946490\\\\\n",
       "\tC(Emotion)sad & -0.0183855462 & 0.01657707\\\\\n",
       "\tC(Emotion)happy:Dismissing &  0.0007459007 & 0.03686389\\\\\n",
       "\tC(Emotion)sad:Dismissing &  0.0041547930 & 0.04041375\\\\\n",
       "\tC(Emotion)happy:Preoccupied & -0.0109315638 & 0.01087278\\\\\n",
       "\tC(Emotion)sad:Preoccupied & -0.0070396494 & 0.01476164\\\\\n",
       "\\end{tabular}\n"
      ],
      "text/markdown": [
       "\n",
       "A matrix: 10 x 2 of type dbl\n",
       "\n",
       "| <!--/--> | 2.5 % | 97.5 % |\n",
       "|---|---|---|\n",
       "| .sig01 |  0.0000000000 | 0.02632960 |\n",
       "| .sig02 |  0.0788058676 | 0.12201812 |\n",
       "| .sig03 |  0.0103982143 | 0.02666533 |\n",
       "| .sigma |  0.1702333326 | 0.17830945 |\n",
       "| (Intercept) |  0.1857487875 | 0.25946490 |\n",
       "| C(Emotion)sad | -0.0183855462 | 0.01657707 |\n",
       "| C(Emotion)happy:Dismissing |  0.0007459007 | 0.03686389 |\n",
       "| C(Emotion)sad:Dismissing |  0.0041547930 | 0.04041375 |\n",
       "| C(Emotion)happy:Preoccupied | -0.0109315638 | 0.01087278 |\n",
       "| C(Emotion)sad:Preoccupied | -0.0070396494 | 0.01476164 |\n",
       "\n"
      ],
      "text/plain": [
       "                            2.5 %         97.5 %    \n",
       ".sig01                       0.0000000000 0.02632960\n",
       ".sig02                       0.0788058676 0.12201812\n",
       ".sig03                       0.0103982143 0.02666533\n",
       ".sigma                       0.1702333326 0.17830945\n",
       "(Intercept)                  0.1857487875 0.25946490\n",
       "C(Emotion)sad               -0.0183855462 0.01657707\n",
       "C(Emotion)happy:Dismissing   0.0007459007 0.03686389\n",
       "C(Emotion)sad:Dismissing     0.0041547930 0.04041375\n",
       "C(Emotion)happy:Preoccupied -0.0109315638 0.01087278\n",
       "C(Emotion)sad:Preoccupied   -0.0070396494 0.01476164"
      ]
     },
     "metadata": {},
     "output_type": "display_data"
    }
   ],
   "source": [
    "confint(result)"
   ]
  },
  {
   "cell_type": "markdown",
   "metadata": {},
   "source": [
    "### ANOVA test on fitted linear mixed effects model\n",
    "\n",
    "This allows us to get statistical effects at a higher level (e.g., Emotion X Dismissing, Emotion X Preoccupied).\n",
    "Given the Linear Model, we use ANOVA type 3 Sum of Squares and F-statistic for significance testing."
   ]
  },
  {
   "cell_type": "code",
   "execution_count": 17,
   "metadata": {},
   "outputs": [
    {
     "data": {
      "text/html": [
       "<table class=\"dataframe\">\n",
       "<caption>A anova: 4 x 4</caption>\n",
       "<thead>\n",
       "\t<tr><th></th><th scope=col>F</th><th scope=col>Df</th><th scope=col>Df.res</th><th scope=col>Pr(&gt;F)</th></tr>\n",
       "\t<tr><th></th><th scope=col>&lt;dbl&gt;</th><th scope=col>&lt;dbl&gt;</th><th scope=col>&lt;dbl&gt;</th><th scope=col>&lt;dbl&gt;</th></tr>\n",
       "</thead>\n",
       "<tbody>\n",
       "\t<tr><th scope=row>(Intercept)</th><td>136.08538282</td><td>1</td><td> 48.31948</td><td>1.169721e-15</td></tr>\n",
       "\t<tr><th scope=row>C(Emotion)</th><td>  0.01066212</td><td>1</td><td> 47.60103</td><td>9.181924e-01</td></tr>\n",
       "\t<tr><th scope=row>C(Emotion):Dismissing</th><td>  2.97463497</td><td>2</td><td>108.13570</td><td>5.526087e-02</td></tr>\n",
       "\t<tr><th scope=row>C(Emotion):Preoccupied</th><td>  2.16071431</td><td>2</td><td>107.01333</td><td>1.202446e-01</td></tr>\n",
       "</tbody>\n",
       "</table>\n"
      ],
      "text/latex": [
       "A anova: 4 x 4\n",
       "\\begin{tabular}{r|llll}\n",
       "  & F & Df & Df.res & Pr(>F)\\\\\n",
       "  & <dbl> & <dbl> & <dbl> & <dbl>\\\\\n",
       "\\hline\n",
       "\t(Intercept) & 136.08538282 & 1 &  48.31948 & 1.169721e-15\\\\\n",
       "\tC(Emotion) &   0.01066212 & 1 &  47.60103 & 9.181924e-01\\\\\n",
       "\tC(Emotion):Dismissing &   2.97463497 & 2 & 108.13570 & 5.526087e-02\\\\\n",
       "\tC(Emotion):Preoccupied &   2.16071431 & 2 & 107.01333 & 1.202446e-01\\\\\n",
       "\\end{tabular}\n"
      ],
      "text/markdown": [
       "\n",
       "A anova: 4 x 4\n",
       "\n",
       "| <!--/--> | F &lt;dbl&gt; | Df &lt;dbl&gt; | Df.res &lt;dbl&gt; | Pr(&gt;F) &lt;dbl&gt; |\n",
       "|---|---|---|---|---|\n",
       "| (Intercept) | 136.08538282 | 1 |  48.31948 | 1.169721e-15 |\n",
       "| C(Emotion) |   0.01066212 | 1 |  47.60103 | 9.181924e-01 |\n",
       "| C(Emotion):Dismissing |   2.97463497 | 2 | 108.13570 | 5.526087e-02 |\n",
       "| C(Emotion):Preoccupied |   2.16071431 | 2 | 107.01333 | 1.202446e-01 |\n",
       "\n"
      ],
      "text/plain": [
       "                       F            Df Df.res    Pr(>F)      \n",
       "(Intercept)            136.08538282 1   48.31948 1.169721e-15\n",
       "C(Emotion)               0.01066212 1   47.60103 9.181924e-01\n",
       "C(Emotion):Dismissing    2.97463497 2  108.13570 5.526087e-02\n",
       "C(Emotion):Preoccupied   2.16071431 2  107.01333 1.202446e-01"
      ]
     },
     "metadata": {},
     "output_type": "display_data"
    }
   ],
   "source": [
    "Anova(result, type = 3, test.statistic = \"F\")\n"
   ]
  },
  {
   "cell_type": "markdown",
   "metadata": {},
   "source": [
    "- <span style=\"color:darkred\">**Marginal Significant overall Emotion X Preoccupied interaction effect**: Degree of Dismissing has a stronger positive effect on pupil dilation when the stimulus valence is sad compared to when the stimulus valence is happy (marginally significant)</span> "
   ]
  },
  {
   "cell_type": "markdown",
   "metadata": {},
   "source": [
    "### Check Residuals and Cook's Distance\n",
    "\n",
    "\n",
    "Cook's distance: simple heuristic is to consider observations as highly influential when their distance value is > 1. See also [WIKIPEDIA](https://en.wikipedia.org/wiki/Cook%27s_distance)"
   ]
  },
  {
   "cell_type": "code",
   "execution_count": 18,
   "metadata": {},
   "outputs": [
    {
     "data": {
      "text/html": [
       "<style>\n",
       ".dl-inline {width: auto; margin:0; padding: 0}\n",
       ".dl-inline>dt, .dl-inline>dd {float: none; width: auto; display: inline-block}\n",
       ".dl-inline>dt::after {content: \":\\0020\"; padding-right: .5ex}\n",
       ".dl-inline>dt:not(:first-of-type) {padding-left: .5ex}\n",
       "</style><dl class=dl-inline><dt>5632</dt><dd>3387</dd><dt>5661</dt><dd>3416</dd></dl>\n"
      ],
      "text/latex": [
       "\\begin{description*}\n",
       "\\item[5632] 3387\n",
       "\\item[5661] 3416\n",
       "\\end{description*}\n"
      ],
      "text/markdown": [
       "5632\n",
       ":   33875661\n",
       ":   3416\n",
       "\n"
      ],
      "text/plain": [
       "5632 5661 \n",
       "3387 3416 "
      ]
     },
     "metadata": {},
     "output_type": "display_data"
    },
    {
     "data": {
      "image/png": "[encoded data removed]",
      "text/plain": [
       "plot without title"
      ]
     },
     "metadata": {
      "image/png": {
       "height": 420,
       "width": 420
      }
     },
     "output_type": "display_data"
    },
    {
     "data": {
      "image/png": "[encoded data removed]",
      "text/plain": [
       "Plot with title \"Cook's Distance Plot\""
      ]
     },
     "metadata": {
      "image/png": {
       "height": 420,
       "width": 420
      }
     },
     "output_type": "display_data"
    }
   ],
   "source": [
    "# Normality of Residuals\n",
    "qqPlot(residuals(result))\n",
    "\n",
    "# Cook's Distance\n",
    "plot(cooks.distance(result), main=\"Cook's Distance Plot\")"
   ]
  },
  {
   "cell_type": "markdown",
   "metadata": {},
   "source": [
    "- <span style=\"color:darkred\">**Looks good to me**</span> "
   ]
  },
  {
   "cell_type": "markdown",
   "metadata": {},
   "source": [
    "### Simple Means for Emotion"
   ]
  },
  {
   "cell_type": "code",
   "execution_count": 19,
   "metadata": {},
   "outputs": [
    {
     "data": {
      "text/html": [
       "<table class=\"dataframe\">\n",
       "<caption>A data.frame: 2 x 2</caption>\n",
       "<thead>\n",
       "\t<tr><th scope=col>Emotion</th><th scope=col>get(DEPENDENT_VARIABLE)</th></tr>\n",
       "\t<tr><th scope=col>&lt;chr&gt;</th><th scope=col>&lt;dbl&gt;</th></tr>\n",
       "</thead>\n",
       "<tbody>\n",
       "\t<tr><td>happy</td><td>0.2451325</td></tr>\n",
       "\t<tr><td>sad  </td><td>0.2518532</td></tr>\n",
       "</tbody>\n",
       "</table>\n"
      ],
      "text/latex": [
       "A data.frame: 2 x 2\n",
       "\\begin{tabular}{ll}\n",
       " Emotion & get(DEPENDENT\\_VARIABLE)\\\\\n",
       " <chr> & <dbl>\\\\\n",
       "\\hline\n",
       "\t happy & 0.2451325\\\\\n",
       "\t sad   & 0.2518532\\\\\n",
       "\\end{tabular}\n"
      ],
      "text/markdown": [
       "\n",
       "A data.frame: 2 x 2\n",
       "\n",
       "| Emotion &lt;chr&gt; | get(DEPENDENT_VARIABLE) &lt;dbl&gt; |\n",
       "|---|---|\n",
       "| happy | 0.2451325 |\n",
       "| sad   | 0.2518532 |\n",
       "\n"
      ],
      "text/plain": [
       "  Emotion get(DEPENDENT_VARIABLE)\n",
       "1 happy   0.2451325              \n",
       "2 sad     0.2518532              "
      ]
     },
     "metadata": {},
     "output_type": "display_data"
    }
   ],
   "source": [
    "aggregate(get(DEPENDENT_VARIABLE) ~ Emotion, data = df, mean)\n"
   ]
  },
  {
   "cell_type": "markdown",
   "metadata": {},
   "source": [
    "### Visualize interactions\n",
    "\n",
    "- Change in pupil dilation for **Dismissing** as a function of Emotion (happy/sad)\n",
    "- Change in pupil dilation for **Preoccupied** as a function of Emotion (happy/sad)\n",
    "\n",
    "Resources:  \n",
    "https://cran.r-project.org/web/packages/sjPlot/vignettes/plot_interactions.html\n",
    "\n",
    "\n",
    "- <span style=\"color:blue\">**Plots are also exported**</span> "
   ]
  },
  {
   "cell_type": "code",
   "execution_count": 20,
   "metadata": {},
   "outputs": [
    {
     "name": "stderr",
     "output_type": "stream",
     "text": [
      "Warning message:\n",
      "\"\u001b[1m\u001b[22mUsing `size` aesthetic for lines was deprecated in ggplot2 3.4.0.\n",
      "\u001b[36mi\u001b[39m Please use `linewidth` instead.\"\n",
      "\u001b[1m\u001b[22mScale for \u001b[32my\u001b[39m is already present.\n",
      "Adding another scale for \u001b[32my\u001b[39m, which will replace the existing scale.\n"
     ]
    },
    {
     "data": {
      "text/html": [
       "<strong>pdf:</strong> 2"
      ],
      "text/latex": [
       "\\textbf{pdf:} 2"
      ],
      "text/markdown": [
       "**pdf:** 2"
      ],
      "text/plain": [
       "pdf \n",
       "  2 "
      ]
     },
     "metadata": {},
     "output_type": "display_data"
    }
   ],
   "source": [
    "library(ggplot2) # Make sure to load ggplot2 for theme and geom functions\n",
    "\n",
    "par(cex = 1.0)\n",
    "# tiff(file.path(FIGURE_REPORTS_DIR, \"Dismissing_int.tiff\"), width = 1800, height = 1800, res = 300)\n",
    "png(file.path(FIGURE_REPORTS_DIR, \"Dismissing_int.png\"), width = 1800, height = 1800, res = 300)\n",
    "\n",
    "# Create the plot\n",
    "p <- plot_model(result,\n",
    "  type = \"pred\",\n",
    "  terms = c(\"Dismissing\", \"Emotion\"),\n",
    "  title = \"\",\n",
    "  axis.title = c(\"Change in pupil dilation (in mm)\\nrelative to baseline\"),\n",
    ")\n",
    "\n",
    "# Adjust the theme to explicitly show spines on all sides\n",
    "update_geom_defaults(\"line\", list(size = 4.5))\n",
    "p <- p + theme_minimal() +\n",
    "  theme(\n",
    "    plot.title = element_text(size = 12, face = \"bold\", family = \"sans\"),\n",
    "    text = element_text(size = 12),\n",
    "    axis.text = element_text(size = 12),\n",
    "    axis.title = element_text(size = 12),\n",
    "    panel.background = element_blank(),\n",
    "    panel.grid.major = element_blank(),\n",
    "    panel.grid.minor = element_blank(),\n",
    "    plot.background = element_blank(),\n",
    "    axis.line = element_blank(), # Clear default axis lines\n",
    "    axis.ticks = element_blank() # Clear default ticks\n",
    "  ) +\n",
    "  # Manually adding spines for all sides\n",
    "  geom_segment(aes(x = -Inf, y = Inf, xend = Inf, yend = Inf), color = \"black\", size = 0.5) + # Top spine\n",
    "  geom_segment(aes(x = Inf, y = Inf, xend = Inf, yend = -Inf), color = \"black\", size = 0.5) + # Right spine\n",
    "  geom_segment(aes(x = -Inf, y = -Inf, xend = Inf, yend = -Inf), color = \"black\", size = 0.5) + # Bottom spine\n",
    "  geom_segment(aes(x = -Inf, y = Inf, xend = -Inf, yend = -Inf), color = \"black\", size = 0.5) + # Left spine +\n",
    "  # Increase line width directly for all line geoms\n",
    "  geom_line(size = 1.15) +\n",
    "  # Set y limits\n",
    "  ylim(0.00, 0.45)\n",
    "\n",
    "# Print the plot\n",
    "print(p)\n",
    "dev.off()\n"
   ]
  },
  {
   "cell_type": "code",
   "execution_count": 21,
   "metadata": {},
   "outputs": [
    {
     "name": "stderr",
     "output_type": "stream",
     "text": [
      "\u001b[1m\u001b[22mScale for \u001b[32my\u001b[39m is already present.\n",
      "Adding another scale for \u001b[32my\u001b[39m, which will replace the existing scale.\n"
     ]
    },
    {
     "data": {
      "text/html": [
       "<strong>pdf:</strong> 2"
      ],
      "text/latex": [
       "\\textbf{pdf:} 2"
      ],
      "text/markdown": [
       "**pdf:** 2"
      ],
      "text/plain": [
       "pdf \n",
       "  2 "
      ]
     },
     "metadata": {},
     "output_type": "display_data"
    }
   ],
   "source": [
    "par(cex = 1.0)\n",
    "# tiff(file.path(FIGURE_REPORTS_DIR, \"Dismissing_int.tiff\"), width = 1800, height = 1800, res = 300)\n",
    "png(file.path(FIGURE_REPORTS_DIR, \"Preoccupied_int.png\"), width = 1800, height = 1800, res = 300)\n",
    "\n",
    "# Create the plot\n",
    "p <- plot_model(result,\n",
    "  type = \"pred\",\n",
    "  terms = c(\"Preoccupied\", \"Emotion\"),\n",
    "  title = \"\",\n",
    "  axis.title = c(\"Change in pupil dilation (in mm)\\nrelative to baseline\"),\n",
    ")\n",
    "\n",
    "# Adjust the theme to explicitly show spines on all sides\n",
    "update_geom_defaults(\"line\", list(size = 4.5))\n",
    "p <- p + theme_minimal() +\n",
    "  theme(\n",
    "    plot.title = element_text(size = 12, face = \"bold\", family = \"sans\"),\n",
    "    text = element_text(size = 12),\n",
    "    axis.text = element_text(size = 12),\n",
    "    axis.title = element_text(size = 12),\n",
    "    panel.background = element_blank(),\n",
    "    panel.grid.major = element_blank(),\n",
    "    panel.grid.minor = element_blank(),\n",
    "    plot.background = element_blank(),\n",
    "    axis.line = element_blank(), # Clear default axis lines\n",
    "    axis.ticks = element_blank() # Clear default ticks\n",
    "  ) +\n",
    "  # Manually adding spines for all sides\n",
    "  geom_segment(aes(x = -Inf, y = Inf, xend = Inf, yend = Inf), color = \"black\", size = 0.5) + # Top spine\n",
    "  geom_segment(aes(x = Inf, y = Inf, xend = Inf, yend = -Inf), color = \"black\", size = 0.5) + # Right spine\n",
    "  geom_segment(aes(x = -Inf, y = -Inf, xend = Inf, yend = -Inf), color = \"black\", size = 0.5) + # Bottom spine\n",
    "  geom_segment(aes(x = -Inf, y = Inf, xend = -Inf, yend = -Inf), color = \"black\", size = 0.5) + # Left spine +\n",
    "  # Increase line width directly for all line geoms\n",
    "  geom_line(size = 1.15) +\n",
    "  # Set y limits\n",
    "  ylim(0.0, 0.45)\n",
    "\n",
    "\n",
    "# Print the plot\n",
    "print(p)\n",
    "dev.off()\n"
   ]
  },
  {
   "cell_type": "markdown",
   "metadata": {},
   "source": [
    "## Additional Analyses"
   ]
  },
  {
   "cell_type": "markdown",
   "metadata": {},
   "source": [
    "### Additional Analysis 1: Age in model\n",
    "\n",
    "Same model as in Main Analysis but with Age included as fixed effect.\n",
    "\n",
    "**Analysis formula**:\n",
    "```r\n",
    "    lmer(avg_pd_bc_post1500ms ~ C(Emotion) + Age + C(Emotion):Dismissing + C(Emotion):Preoccupied + (1 | ParticipantName) + (1 | trial_nr) + (1 | mean_luminance), data = .)\n",
    "\n",
    "where\n",
    "\n",
    "- Emotion is treated as factor\n",
    "- Dismissing and Preoccupied are continous variables\n",
    "- Fixed Effects:\n",
    "    - Emotion\n",
    "    - Age\n",
    "    - Emotion X Dismissing\n",
    "    - Emotion X Preoccupied\n",
    "- Random Effects (intercept):\n",
    "    - ParticipantName\n",
    "    - mean_luminance\n",
    "    - trial_nr"
   ]
  },
  {
   "cell_type": "code",
   "execution_count": 22,
   "metadata": {},
   "outputs": [
    {
     "data": {
      "text/plain": [
       "Linear mixed model fit by REML. t-tests use Satterthwaite's method [\n",
       "lmerModLmerTest]\n",
       "Formula: get(DEPENDENT_VARIABLE) ~ C(Emotion) + Age + C(Emotion):Dismissing +  \n",
       "    C(Emotion):Preoccupied + (1 | ParticipantName) + (1 | trial_nr) +  \n",
       "    (1 | mean_luminance)\n",
       "   Data: .\n",
       "\n",
       "REML criterion at convergence: -2295.9\n",
       "\n",
       "Scaled residuals: \n",
       "    Min      1Q  Median      3Q     Max \n",
       "-6.4059 -0.5771  0.0029  0.5984  4.6874 \n",
       "\n",
       "Random effects:\n",
       " Groups          Name        Variance  Std.Dev.\n",
       " trial_nr        (Intercept) 0.0002480 0.01575 \n",
       " ParticipantName (Intercept) 0.0100623 0.10031 \n",
       " mean_luminance  (Intercept) 0.0003384 0.01840 \n",
       " Residual                    0.0303597 0.17424 \n",
       "Number of obs: 3885, groups:  \n",
       "trial_nr, 228; ParticipantName, 45; mean_luminance, 38\n",
       "\n",
       "Fixed effects:\n",
       "                              Estimate Std. Error         df t value Pr(>|t|)\n",
       "(Intercept)                  0.3312982  0.1125793 40.0356323   2.943  0.00539\n",
       "C(Emotion)sad               -0.0009233  0.0088630 49.4809434  -0.104  0.91745\n",
       "Age                         -0.0046482  0.0047450 39.8149362  -0.980  0.33320\n",
       "C(Emotion)happy:Dismissing   0.0206862  0.0095292 42.9761873   2.171  0.03551\n",
       "C(Emotion)sad:Dismissing     0.0241803  0.0095677 43.6809188   2.527  0.01519\n",
       "C(Emotion)happy:Preoccupied -0.0015876  0.0058535 42.4181742  -0.271  0.78753\n",
       "C(Emotion)sad:Preoccupied    0.0023115  0.0058515 42.4455016   0.395  0.69480\n",
       "                              \n",
       "(Intercept)                 **\n",
       "C(Emotion)sad                 \n",
       "Age                           \n",
       "C(Emotion)happy:Dismissing  * \n",
       "C(Emotion)sad:Dismissing    * \n",
       "C(Emotion)happy:Preoccupied   \n",
       "C(Emotion)sad:Preoccupied     \n",
       "---\n",
       "Signif. codes:  0 '***' 0.001 '**' 0.01 '*' 0.05 '.' 0.1 ' ' 1\n",
       "\n",
       "Correlation of Fixed Effects:\n",
       "            (Intr) C(Emt) Age    C(Emtn)h:D C(Emtn)s:D C(Emtn)h:P\n",
       "C(Emotin)sd -0.040                                               \n",
       "Age         -0.986  0.001                                        \n",
       "C(Emtn)hp:D  0.113  0.066 -0.203                                 \n",
       "C(Emtn)sd:D  0.119 -0.064 -0.203  0.937                          \n",
       "C(Emtn)hp:P -0.296  0.024  0.272  0.259      0.238               \n",
       "C(Emtn)sd:P -0.293 -0.028  0.271  0.240      0.259      0.948    "
      ]
     },
     "metadata": {},
     "output_type": "display_data"
    }
   ],
   "source": [
    "result_age <- subset_df %>%\n",
    "    lmer(get(DEPENDENT_VARIABLE) ~ C(Emotion) + Age + C(Emotion):Dismissing + C(Emotion):Preoccupied + (1 | ParticipantName) + (1 | trial_nr) + (1 | mean_luminance), data = ., ) # nolint\n",
    "summary(result_age)\n"
   ]
  },
  {
   "cell_type": "code",
   "execution_count": 23,
   "metadata": {},
   "outputs": [
    {
     "data": {
      "text/html": [
       "<table class=\"dataframe\">\n",
       "<caption>A anova: 5 x 4</caption>\n",
       "<thead>\n",
       "\t<tr><th></th><th scope=col>F</th><th scope=col>Df</th><th scope=col>Df.res</th><th scope=col>Pr(&gt;F)</th></tr>\n",
       "\t<tr><th></th><th scope=col>&lt;dbl&gt;</th><th scope=col>&lt;dbl&gt;</th><th scope=col>&lt;dbl&gt;</th><th scope=col>&lt;dbl&gt;</th></tr>\n",
       "</thead>\n",
       "<tbody>\n",
       "\t<tr><th scope=row>(Intercept)</th><td>8.65936474</td><td>1</td><td> 39.66565</td><td>0.005412909</td></tr>\n",
       "\t<tr><th scope=row>C(Emotion)</th><td>0.01084111</td><td>1</td><td> 47.59176</td><td>0.917511156</td></tr>\n",
       "\t<tr><th scope=row>Age</th><td>0.95951689</td><td>1</td><td> 39.44737</td><td>0.333278238</td></tr>\n",
       "\t<tr><th scope=row>C(Emotion):Dismissing</th><td>3.32848885</td><td>2</td><td>105.48036</td><td>0.039649513</td></tr>\n",
       "\t<tr><th scope=row>C(Emotion):Preoccupied</th><td>2.10794853</td><td>2</td><td>104.50446</td><td>0.126623225</td></tr>\n",
       "</tbody>\n",
       "</table>\n"
      ],
      "text/latex": [
       "A anova: 5 x 4\n",
       "\\begin{tabular}{r|llll}\n",
       "  & F & Df & Df.res & Pr(>F)\\\\\n",
       "  & <dbl> & <dbl> & <dbl> & <dbl>\\\\\n",
       "\\hline\n",
       "\t(Intercept) & 8.65936474 & 1 &  39.66565 & 0.005412909\\\\\n",
       "\tC(Emotion) & 0.01084111 & 1 &  47.59176 & 0.917511156\\\\\n",
       "\tAge & 0.95951689 & 1 &  39.44737 & 0.333278238\\\\\n",
       "\tC(Emotion):Dismissing & 3.32848885 & 2 & 105.48036 & 0.039649513\\\\\n",
       "\tC(Emotion):Preoccupied & 2.10794853 & 2 & 104.50446 & 0.126623225\\\\\n",
       "\\end{tabular}\n"
      ],
      "text/markdown": [
       "\n",
       "A anova: 5 x 4\n",
       "\n",
       "| <!--/--> | F &lt;dbl&gt; | Df &lt;dbl&gt; | Df.res &lt;dbl&gt; | Pr(&gt;F) &lt;dbl&gt; |\n",
       "|---|---|---|---|---|\n",
       "| (Intercept) | 8.65936474 | 1 |  39.66565 | 0.005412909 |\n",
       "| C(Emotion) | 0.01084111 | 1 |  47.59176 | 0.917511156 |\n",
       "| Age | 0.95951689 | 1 |  39.44737 | 0.333278238 |\n",
       "| C(Emotion):Dismissing | 3.32848885 | 2 | 105.48036 | 0.039649513 |\n",
       "| C(Emotion):Preoccupied | 2.10794853 | 2 | 104.50446 | 0.126623225 |\n",
       "\n"
      ],
      "text/plain": [
       "                       F          Df Df.res    Pr(>F)     \n",
       "(Intercept)            8.65936474 1   39.66565 0.005412909\n",
       "C(Emotion)             0.01084111 1   47.59176 0.917511156\n",
       "Age                    0.95951689 1   39.44737 0.333278238\n",
       "C(Emotion):Dismissing  3.32848885 2  105.48036 0.039649513\n",
       "C(Emotion):Preoccupied 2.10794853 2  104.50446 0.126623225"
      ]
     },
     "metadata": {},
     "output_type": "display_data"
    }
   ],
   "source": [
    "Anova(result_age, type = 3, test.statistic = \"F\")\n"
   ]
  },
  {
   "cell_type": "markdown",
   "metadata": {},
   "source": [
    "### Additional Analysis 2: Security (categorical) instead of Dismissing/Preoccupied\n",
    "\n",
    "Same as in Main Analysis but with Dismissing and Preoccupied replaced with Security(0,1)\n",
    "\n",
    "**Analysis formula**:\n",
    "```r\n",
    "    lmer(avg_pd_bc_post1500ms ~ C(Emotion) + C(Emotion):C(Security) + (1 | ParticipantName) + (1 | trial_nr) + (1 | mean_luminance), data = .)\n",
    "\n",
    "where\n",
    "\n",
    "- Emotion is treated as factor\n",
    "- Dismissing and Preoccupied are continous variables\n",
    "- Fixed Effects:\n",
    "    - Emotion\n",
    "    - Emotion X Security\n",
    "- Random Effects (intercept):\n",
    "    - ParticipantName\n",
    "    - mean_luminance\n",
    "    - trial_nr"
   ]
  },
  {
   "cell_type": "code",
   "execution_count": 24,
   "metadata": {},
   "outputs": [
    {
     "data": {
      "text/html": [
       "<table class=\"dataframe\">\n",
       "<caption>A tibble: 3 x 2</caption>\n",
       "<thead>\n",
       "\t<tr><th scope=col>Security</th><th scope=col>Unique_Participants</th></tr>\n",
       "\t<tr><th scope=col>&lt;dbl&gt;</th><th scope=col>&lt;int&gt;</th></tr>\n",
       "</thead>\n",
       "<tbody>\n",
       "\t<tr><td>0</td><td>39</td></tr>\n",
       "\t<tr><td>1</td><td>54</td></tr>\n",
       "\t<tr><td>2</td><td> 2</td></tr>\n",
       "</tbody>\n",
       "</table>\n"
      ],
      "text/latex": [
       "A tibble: 3 x 2\n",
       "\\begin{tabular}{ll}\n",
       " Security & Unique\\_Participants\\\\\n",
       " <dbl> & <int>\\\\\n",
       "\\hline\n",
       "\t 0 & 39\\\\\n",
       "\t 1 & 54\\\\\n",
       "\t 2 &  2\\\\\n",
       "\\end{tabular}\n"
      ],
      "text/markdown": [
       "\n",
       "A tibble: 3 x 2\n",
       "\n",
       "| Security &lt;dbl&gt; | Unique_Participants &lt;int&gt; |\n",
       "|---|---|\n",
       "| 0 | 39 |\n",
       "| 1 | 54 |\n",
       "| 2 |  2 |\n",
       "\n"
      ],
      "text/plain": [
       "  Security Unique_Participants\n",
       "1 0        39                 \n",
       "2 1        54                 \n",
       "3 2         2                 "
      ]
     },
     "metadata": {},
     "output_type": "display_data"
    }
   ],
   "source": [
    "# Check how many participants we have per distinct Security\n",
    "unique_participants <- subset_df %>%\n",
    "  group_by(Security) %>%\n",
    "  summarise(Unique_Participants = n_distinct(ParticipantName))\n",
    "\n",
    "unique_participants\n"
   ]
  },
  {
   "cell_type": "markdown",
   "metadata": {},
   "source": [
    "Exclude Security value = 2 from the dataframe as we only have 2 participants"
   ]
  },
  {
   "cell_type": "code",
   "execution_count": 25,
   "metadata": {},
   "outputs": [
    {
     "data": {
      "text/html": [
       "<style>\n",
       ".list-inline {list-style: none; margin:0; padding: 0}\n",
       ".list-inline>li {display: inline-block}\n",
       ".list-inline>li:not(:last-child)::after {content: \"\\00b7\"; padding: 0 .5ex}\n",
       "</style>\n",
       "<ol class=list-inline><li>7308</li><li>25</li></ol>\n"
      ],
      "text/latex": [
       "\\begin{enumerate*}\n",
       "\\item 7308\n",
       "\\item 25\n",
       "\\end{enumerate*}\n"
      ],
      "text/markdown": [
       "1. 7308\n",
       "2. 25\n",
       "\n",
       "\n"
      ],
      "text/plain": [
       "[1] 7308   25"
      ]
     },
     "metadata": {},
     "output_type": "display_data"
    }
   ],
   "source": [
    "security_subset_df <- subset_df[subset_df$Security != 2, ]\n",
    "dim(security_subset_df)\n"
   ]
  },
  {
   "cell_type": "code",
   "execution_count": 26,
   "metadata": {},
   "outputs": [
    {
     "data": {
      "text/plain": [
       "Linear mixed model fit by REML. t-tests use Satterthwaite's method [\n",
       "lmerModLmerTest]\n",
       "Formula: get(DEPENDENT_VARIABLE) ~ C(Emotion) + C(Emotion):C(Security) +  \n",
       "    (1 | ParticipantName) + (1 | trial_nr) + (1 | mean_luminance)\n",
       "   Data: .\n",
       "\n",
       "REML criterion at convergence: -4836.3\n",
       "\n",
       "Scaled residuals: \n",
       "    Min      1Q  Median      3Q     Max \n",
       "-6.6258 -0.6027  0.0116  0.6092  4.9100 \n",
       "\n",
       "Random effects:\n",
       " Groups          Name        Variance  Std.Dev.\n",
       " trial_nr        (Intercept) 2.194e-05 0.004684\n",
       " ParticipantName (Intercept) 1.135e-02 0.106527\n",
       " mean_luminance  (Intercept) 3.716e-04 0.019277\n",
       " Residual                    2.868e-02 0.169350\n",
       "Number of obs: 7308, groups:  \n",
       "trial_nr, 228; ParticipantName, 93; mean_luminance, 38\n",
       "\n",
       "Fixed effects:\n",
       "                               Estimate Std. Error         df t value Pr(>|t|)\n",
       "(Intercept)                    0.264389   0.018416 105.667533  14.357   <2e-16\n",
       "C(Emotion)sad                  0.008387   0.008684  66.766382   0.966   0.3377\n",
       "C(Emotion)happy:C(Security)1  -0.041579   0.023436  96.121810  -1.774   0.0792\n",
       "C(Emotion)sad:C(Security)1    -0.040612   0.023486  96.954349  -1.729   0.0870\n",
       "                                \n",
       "(Intercept)                  ***\n",
       "C(Emotion)sad                   \n",
       "C(Emotion)happy:C(Security)1 .  \n",
       "C(Emotion)sad:C(Security)1   .  \n",
       "---\n",
       "Signif. codes:  0 '***' 0.001 '**' 0.01 '*' 0.05 '.' 0.1 ' ' 1\n",
       "\n",
       "Correlation of Fixed Effects:\n",
       "               (Intr) C(Emt) C(Emtn)h:C(S)1\n",
       "C(Emotin)sd    -0.229                      \n",
       "C(Emtn)h:C(S)1 -0.740  0.084               \n",
       "C(Emtn)s:C(S)1 -0.699 -0.094  0.941        "
      ]
     },
     "metadata": {},
     "output_type": "display_data"
    }
   ],
   "source": [
    "result_security <- security_subset_df %>%\n",
    "    lmer(get(DEPENDENT_VARIABLE) ~ C(Emotion) + C(Emotion):C(Security) + (1 | ParticipantName) + (1 | trial_nr) + (1 | mean_luminance), data = ., )\n",
    "summary(result_security)\n"
   ]
  },
  {
   "cell_type": "code",
   "execution_count": 27,
   "metadata": {},
   "outputs": [
    {
     "data": {
      "text/html": [
       "<table class=\"dataframe\">\n",
       "<caption>A anova: 5 x 4</caption>\n",
       "<thead>\n",
       "\t<tr><th></th><th scope=col>F</th><th scope=col>Df</th><th scope=col>Df.res</th><th scope=col>Pr(&gt;F)</th></tr>\n",
       "\t<tr><th></th><th scope=col>&lt;dbl&gt;</th><th scope=col>&lt;dbl&gt;</th><th scope=col>&lt;dbl&gt;</th><th scope=col>&lt;dbl&gt;</th></tr>\n",
       "</thead>\n",
       "<tbody>\n",
       "\t<tr><th scope=row>(Intercept)</th><td>8.65936474</td><td>1</td><td> 39.66565</td><td>0.005412909</td></tr>\n",
       "\t<tr><th scope=row>C(Emotion)</th><td>0.01084111</td><td>1</td><td> 47.59176</td><td>0.917511156</td></tr>\n",
       "\t<tr><th scope=row>Age</th><td>0.95951689</td><td>1</td><td> 39.44737</td><td>0.333278238</td></tr>\n",
       "\t<tr><th scope=row>C(Emotion):Dismissing</th><td>3.32848885</td><td>2</td><td>105.48036</td><td>0.039649513</td></tr>\n",
       "\t<tr><th scope=row>C(Emotion):Preoccupied</th><td>2.10794853</td><td>2</td><td>104.50446</td><td>0.126623225</td></tr>\n",
       "</tbody>\n",
       "</table>\n"
      ],
      "text/latex": [
       "A anova: 5 x 4\n",
       "\\begin{tabular}{r|llll}\n",
       "  & F & Df & Df.res & Pr(>F)\\\\\n",
       "  & <dbl> & <dbl> & <dbl> & <dbl>\\\\\n",
       "\\hline\n",
       "\t(Intercept) & 8.65936474 & 1 &  39.66565 & 0.005412909\\\\\n",
       "\tC(Emotion) & 0.01084111 & 1 &  47.59176 & 0.917511156\\\\\n",
       "\tAge & 0.95951689 & 1 &  39.44737 & 0.333278238\\\\\n",
       "\tC(Emotion):Dismissing & 3.32848885 & 2 & 105.48036 & 0.039649513\\\\\n",
       "\tC(Emotion):Preoccupied & 2.10794853 & 2 & 104.50446 & 0.126623225\\\\\n",
       "\\end{tabular}\n"
      ],
      "text/markdown": [
       "\n",
       "A anova: 5 x 4\n",
       "\n",
       "| <!--/--> | F &lt;dbl&gt; | Df &lt;dbl&gt; | Df.res &lt;dbl&gt; | Pr(&gt;F) &lt;dbl&gt; |\n",
       "|---|---|---|---|---|\n",
       "| (Intercept) | 8.65936474 | 1 |  39.66565 | 0.005412909 |\n",
       "| C(Emotion) | 0.01084111 | 1 |  47.59176 | 0.917511156 |\n",
       "| Age | 0.95951689 | 1 |  39.44737 | 0.333278238 |\n",
       "| C(Emotion):Dismissing | 3.32848885 | 2 | 105.48036 | 0.039649513 |\n",
       "| C(Emotion):Preoccupied | 2.10794853 | 2 | 104.50446 | 0.126623225 |\n",
       "\n"
      ],
      "text/plain": [
       "                       F          Df Df.res    Pr(>F)     \n",
       "(Intercept)            8.65936474 1   39.66565 0.005412909\n",
       "C(Emotion)             0.01084111 1   47.59176 0.917511156\n",
       "Age                    0.95951689 1   39.44737 0.333278238\n",
       "C(Emotion):Dismissing  3.32848885 2  105.48036 0.039649513\n",
       "C(Emotion):Preoccupied 2.10794853 2  104.50446 0.126623225"
      ]
     },
     "metadata": {},
     "output_type": "display_data"
    }
   ],
   "source": [
    "Anova(result_age, type = 3, test.statistic = \"F\")\n"
   ]
  },
  {
   "cell_type": "markdown",
   "metadata": {},
   "source": [
    "### Additional Analysis 3: Include Secure for generating plot\n",
    "\n",
    "Same model as in Main Analysis but with Secure included as fixed effect.\n",
    "\n",
    "**Analysis formula**:\n",
    "```r\n",
    "    lmer(avg_pd_bc_post1500ms ~ C(Emotion) + Age + C(Emotion):Dismissing + C(Emotion):Secure + C(Emotion):Preoccupied + (1 | ParticipantName) + (1 | trial_nr) + (1 | mean_luminance), data = .)\n",
    "\n",
    "where\n",
    "\n",
    "- Emotion is treated as factor\n",
    "- Dismissing and Preoccupied are continous variables\n",
    "- Fixed Effects:\n",
    "    - Emotion\n",
    "    - Age\n",
    "    - Emotion X Dismissing\n",
    "    - Emotion X Preoccupied\n",
    "    - Emotion X Secure\n",
    "- Random Effects (intercept):\n",
    "    - ParticipantName\n",
    "    - mean_luminance\n",
    "    - trial_nr"
   ]
  },
  {
   "cell_type": "code",
   "execution_count": 28,
   "metadata": {},
   "outputs": [
    {
     "data": {
      "text/plain": [
       "Linear mixed model fit by REML. t-tests use Satterthwaite's method [\n",
       "lmerModLmerTest]\n",
       "Formula: get(DEPENDENT_VARIABLE) ~ C(Emotion) + C(Emotion):Dismissing +  \n",
       "    C(Emotion):Secure + C(Emotion):Preoccupied + (1 | ParticipantName) +  \n",
       "    (1 | trial_nr) + (1 | mean_luminance)\n",
       "   Data: .\n",
       "\n",
       "REML criterion at convergence: -1147.7\n",
       "\n",
       "Scaled residuals: \n",
       "    Min      1Q  Median      3Q     Max \n",
       "-6.2011 -0.5652 -0.0037  0.5897  4.4583 \n",
       "\n",
       "Random effects:\n",
       " Groups          Name        Variance  Std.Dev.\n",
       " trial_nr        (Intercept) 0.0005067 0.02251 \n",
       " mean_luminance  (Intercept) 0.0001610 0.01269 \n",
       " ParticipantName (Intercept) 0.0109177 0.10449 \n",
       " Residual                    0.0321892 0.17941 \n",
       "Number of obs: 2214, groups:  \n",
       "trial_nr, 228; mean_luminance, 38; ParticipantName, 25\n",
       "\n",
       "Fixed effects:\n",
       "                              Estimate Std. Error         df t value Pr(>|t|)\n",
       "(Intercept)                  2.042e-01  4.413e-02  2.160e+01   4.628 0.000136\n",
       "C(Emotion)sad               -9.436e-03  1.577e-02  3.275e+02  -0.598 0.549972\n",
       "C(Emotion)happy:Dismissing   1.331e-02  1.682e-02  2.138e+01   0.791 0.437620\n",
       "C(Emotion)sad:Dismissing     2.125e-02  1.683e-02  2.148e+01   1.263 0.220299\n",
       "C(Emotion)happy:Secure       8.214e-03  1.248e-02  2.141e+01   0.658 0.517252\n",
       "C(Emotion)sad:Secure         9.446e-03  1.250e-02  2.158e+01   0.756 0.458039\n",
       "C(Emotion)happy:Preoccupied -9.638e-04  7.780e-03  2.146e+01  -0.124 0.902571\n",
       "C(Emotion)sad:Preoccupied    2.495e-03  7.785e-03  2.157e+01   0.320 0.751747\n",
       "                               \n",
       "(Intercept)                 ***\n",
       "C(Emotion)sad                  \n",
       "C(Emotion)happy:Dismissing     \n",
       "C(Emotion)sad:Dismissing       \n",
       "C(Emotion)happy:Secure         \n",
       "C(Emotion)sad:Secure           \n",
       "C(Emotion)happy:Preoccupied    \n",
       "C(Emotion)sad:Preoccupied      \n",
       "---\n",
       "Signif. codes:  0 '***' 0.001 '**' 0.01 '*' 0.05 '.' 0.1 ' ' 1\n",
       "\n",
       "Correlation of Fixed Effects:\n",
       "            (Intr) C(Emt) C(Emtn)h:D C(Emtn)s:D C(Emtn)h:S C(Emtn)s:S\n",
       "C(Emotin)sd -0.176                                                   \n",
       "C(Emtn)hp:D -0.619  0.094                                            \n",
       "C(Emtn)sd:D -0.585 -0.096  0.946                                     \n",
       "C(Emtn)hp:S -0.798  0.135  0.443      0.416                          \n",
       "C(Emtn)sd:S -0.748 -0.142  0.416      0.444      0.937               \n",
       "C(Emtn)hp:P -0.286  0.038  0.215      0.208      0.113      0.108    \n",
       "C(Emtn)sd:P -0.272 -0.048  0.208      0.217      0.108      0.114    \n",
       "            C(Emtn)h:P\n",
       "C(Emotin)sd           \n",
       "C(Emtn)hp:D           \n",
       "C(Emtn)sd:D           \n",
       "C(Emtn)hp:S           \n",
       "C(Emtn)sd:S           \n",
       "C(Emtn)hp:P           \n",
       "C(Emtn)sd:P  0.946    "
      ]
     },
     "metadata": {},
     "output_type": "display_data"
    }
   ],
   "source": [
    "result_secure <- subset_df %>%\n",
    "    lmer(get(DEPENDENT_VARIABLE) ~ C(Emotion) + C(Emotion):Dismissing + C(Emotion):Secure + C(Emotion):Preoccupied + (1 | ParticipantName) + (1 | trial_nr) + (1 | mean_luminance), data = ., ) # nolint\n",
    "summary(result_secure)\n"
   ]
  },
  {
   "cell_type": "code",
   "execution_count": 29,
   "metadata": {},
   "outputs": [
    {
     "name": "stderr",
     "output_type": "stream",
     "text": [
      "\u001b[1m\u001b[22mScale for \u001b[32my\u001b[39m is already present.\n",
      "Adding another scale for \u001b[32my\u001b[39m, which will replace the existing scale.\n"
     ]
    },
    {
     "data": {
      "text/html": [
       "<strong>pdf:</strong> 2"
      ],
      "text/latex": [
       "\\textbf{pdf:} 2"
      ],
      "text/markdown": [
       "**pdf:** 2"
      ],
      "text/plain": [
       "pdf \n",
       "  2 "
      ]
     },
     "metadata": {},
     "output_type": "display_data"
    }
   ],
   "source": [
    "par(cex = 1.0)\n",
    "png(file.path(FIGURE_REPORTS_DIR, \"Secure_int_separateModel.png\"), width = 1800, height = 1800, res = 300)\n",
    "\n",
    "# Create the plot\n",
    "p <- plot_model(result_secure,\n",
    "  type = \"pred\",\n",
    "  terms = c(\"Secure\", \"Emotion\"),\n",
    "  title = \"\",\n",
    "  axis.title = c(\"Change in pupil dilation (in mm)\\nrelative to baseline\"),\n",
    ")\n",
    "\n",
    "# Adjust the theme to explicitly show spines on all sides\n",
    "update_geom_defaults(\"line\", list(size = 4.5))\n",
    "p <- p + theme_minimal() +\n",
    "  theme(\n",
    "    plot.title = element_text(size = 12, face = \"bold\", family = \"sans\"),\n",
    "    text = element_text(size = 12),\n",
    "    axis.text = element_text(size = 12),\n",
    "    axis.title = element_text(size = 12),\n",
    "    panel.background = element_blank(),\n",
    "    panel.grid.major = element_blank(),\n",
    "    panel.grid.minor = element_blank(),\n",
    "    plot.background = element_blank(),\n",
    "    axis.line = element_blank(), # Clear default axis lines\n",
    "    axis.ticks = element_blank() # Clear default ticks\n",
    "  ) +\n",
    "  # Manually adding spines for all sides\n",
    "  geom_segment(aes(x = -Inf, y = Inf, xend = Inf, yend = Inf), color = \"black\", size = 0.5) + # Top spine\n",
    "  geom_segment(aes(x = Inf, y = Inf, xend = Inf, yend = -Inf), color = \"black\", size = 0.5) + # Right spine\n",
    "  geom_segment(aes(x = -Inf, y = -Inf, xend = Inf, yend = -Inf), color = \"black\", size = 0.5) + # Bottom spine\n",
    "  geom_segment(aes(x = -Inf, y = Inf, xend = -Inf, yend = -Inf), color = \"black\", size = 0.5) + # Left spine +\n",
    "  # Increase line width directly for all line geoms\n",
    "  geom_line(size = 1.15) + ylim(0, 0.45)\n",
    "# Set y limits\n",
    "\n",
    "\n",
    "# Print the plot\n",
    "print(p)\n",
    "dev.off()\n"
   ]
  }
 ],
 "metadata": {
  "kernelspec": {
   "display_name": "pupil_dilation",
   "language": "python",
   "name": "python3"
  },
  "language_info": {
   "codemirror_mode": "r",
   "file_extension": ".r",
   "mimetype": "text/x-r-source",
   "name": "python",
   "pygments_lexer": "r",
   "version": "3.11.7"
  }
 },
 "nbformat": 4,
 "nbformat_minor": 2
}
